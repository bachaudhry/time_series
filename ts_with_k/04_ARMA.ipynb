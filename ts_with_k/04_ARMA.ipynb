{
 "cells": [
  {
   "cell_type": "markdown",
   "id": "5253afd8-5ba9-4b77-8c84-e2fd6956b777",
   "metadata": {},
   "source": [
    "# **ARMA and Linear Processes**"
   ]
  },
  {
   "cell_type": "code",
   "execution_count": null,
   "id": "0097a52d-844a-450f-9304-242fe2b097b3",
   "metadata": {},
   "outputs": [],
   "source": [
    "import itertools, warnings, os, subprocess\n",
    "import pandas as pd\n",
    "import numpy as np\n",
    "from random import gauss\n",
    "import matplotlib.pyplot as plt\n",
    "import warnings\n",
    "from pandas.plotting import autocorrelation_plot\n",
    "import os\n",
    "from IPython.display import Image\n",
    "\n",
    "import statsmodels.api as sm\n",
    "from statsmodels.graphics.tsaplots import plot_acf, plot_pacf\n",
    "from statsmodels.tsa.ar_model import AR\n",
    "from statsmodels.tsa.seasonal import seasonal_decompose\n",
    "from statsmodels.tsa.stattools import adfuller\n",
    "from statsmodels.tsa.arima_process import ArmaProcess\n",
    "\n",
    "from sklearn.metrics import mean_squared_error\n",
    "\n",
    "from pmdarima.arima import auto_arima\n",
    "from pmdarima import pipeline\n",
    "from pmdarima import model_selection\n",
    "from pmdarima import preprocessing as ppc\n",
    "from pmdarima import arima\n",
    "\n",
    "from prophet import Prophet \n",
    "\n",
    "import matplotlib.pyplot as plt\n",
    "plt.style.use('fivethirtyeight') \n",
    "\n",
    "warnings.simplefilter(action='ignore', category= FutureWarning)"
   ]
  },
  {
   "cell_type": "code",
   "execution_count": null,
   "id": "0d45bbca-2044-43a9-9ea2-754cb05cf4dd",
   "metadata": {},
   "outputs": [],
   "source": [
    "data = 'data/'\n",
    "\n",
    "class CFG:\n",
    "    img_dim1 = 12\n",
    "    img_dim2 = 7\n",
    "    fontsize = 9\n",
    "    marker = 2\n",
    "    lines = 2\n",
    "\n",
    "# plt.rcParams.keys() to list params\n",
    "# adjust the parameters for displayed figures    \n",
    "plt.rcParams.update({'figure.figsize': (CFG.img_dim1,CFG.img_dim2),\n",
    "                     'font.size': (CFG.fontsize),\n",
    "                     'lines.markersize': (CFG.marker),\n",
    "                     'lines.linewidth': (CFG.lines)})    "
   ]
  },
  {
   "cell_type": "markdown",
   "id": "a9b6e9cb-e2d5-4451-896e-d84479d846ee",
   "metadata": {},
   "source": [
    "## **Basic Linear Processes**"
   ]
  },
  {
   "cell_type": "markdown",
   "id": "d5835435-dae4-4fc4-ad65-e7d3ae22e152",
   "metadata": {},
   "source": [
    "**- ADD PROSE -**"
   ]
  },
  {
   "cell_type": "markdown",
   "id": "8b84b616-e311-4a66-86df-b8300cba52ca",
   "metadata": {
    "jp-MarkdownHeadingCollapsed": true
   },
   "source": [
    "### **Autoregressive Processes**"
   ]
  },
  {
   "cell_type": "markdown",
   "id": "d7a40456-5111-4cfa-92a1-ed2b060ddabb",
   "metadata": {},
   "source": [
    "**-ADD PROSE-**"
   ]
  },
  {
   "cell_type": "code",
   "execution_count": null,
   "id": "1f36ddd3-ba69-4802-8854-33adf0591bb4",
   "metadata": {},
   "outputs": [],
   "source": [
    "?ArmaProcess"
   ]
  },
  {
   "cell_type": "code",
   "execution_count": null,
   "id": "24997cc9-02bf-4af4-8496-c680c4bbe71b",
   "metadata": {},
   "outputs": [],
   "source": [
    "ar1 = np.array([1, -0.9])\n",
    "ma1 = np.array([1])\n",
    "\n",
    "AR_object1 = ArmaProcess(ar1, ma1)\n",
    "simulated_data1 = AR_object1.generate_sample(nsample=1000)\n",
    "plt.plot(simulated_data1)\n",
    "plt.show();"
   ]
  },
  {
   "cell_type": "code",
   "execution_count": null,
   "id": "a581f1c1-0b07-4848-ab0f-847d2812f0da",
   "metadata": {},
   "outputs": [],
   "source": [
    "# Plot ACF\n",
    "plot_acf(simulated_data1, lags=10)\n",
    "plt.show();"
   ]
  },
  {
   "cell_type": "code",
   "execution_count": null,
   "id": "c87a7e00-8a68-4dcb-a1d3-3123f195f361",
   "metadata": {},
   "outputs": [],
   "source": [
    "# Plot PACF\n",
    "plot_pacf(simulated_data1, lags=10)\n",
    "plt.show();"
   ]
  },
  {
   "cell_type": "markdown",
   "id": "9c9d6087-f95d-4d2f-9e91-45613c0aa469",
   "metadata": {},
   "source": [
    "#### **Intuition**\n",
    "\n",
    "- The ACF for an Autoregressive process shows strong correlations until the lag `p` and begins to trail off afterwards.\n",
    "- PACF only describes the relationship between an observation and its lag, suggesting that there may be no correlation for lag values beyond `k`"
   ]
  },
  {
   "cell_type": "markdown",
   "id": "40a9a476-10e2-42b7-b51a-27124551d5fe",
   "metadata": {
    "jp-MarkdownHeadingCollapsed": true
   },
   "source": [
    "### **Moving Average Processes**"
   ]
  },
  {
   "cell_type": "markdown",
   "id": "819976c9-5679-45c8-a09b-d6a7622c6f06",
   "metadata": {},
   "source": [
    "**Prose** - TO DO"
   ]
  },
  {
   "cell_type": "code",
   "execution_count": null,
   "id": "e6b9b2ad-568a-42fe-a0b0-96229e846721",
   "metadata": {},
   "outputs": [],
   "source": [
    "ar1 = np.array([1])\n",
    "ma1 = np.array([1, -0.9])\n",
    "\n",
    "MA_object1 = ArmaProcess(ar1, ma1)\n",
    "simulated_data1 = MA_object1.generate_sample(nsample=1000)\n",
    "plt.plot(simulated_data1)\n",
    "plt.show();"
   ]
  },
  {
   "cell_type": "code",
   "execution_count": null,
   "id": "0efd5085-d775-42df-95e8-d9ff7f499a25",
   "metadata": {},
   "outputs": [],
   "source": [
    "plot_acf(simulated_data1, lags=10)\n",
    "plt.show();"
   ]
  },
  {
   "cell_type": "code",
   "execution_count": null,
   "id": "dff2ef7a-262f-4380-904c-d9082ea24e55",
   "metadata": {},
   "outputs": [],
   "source": [
    "plot_pacf(simulated_data1, lags=10)\n",
    "plt.show();"
   ]
  },
  {
   "cell_type": "markdown",
   "id": "81032769-6f59-4224-99f2-49e8b36d61ec",
   "metadata": {},
   "source": [
    "#### **Intuition**\n",
    "\n",
    "- "
   ]
  },
  {
   "cell_type": "markdown",
   "id": "c58764be-7e6c-4406-b4fe-a16652a5a1d9",
   "metadata": {
    "jp-MarkdownHeadingCollapsed": true
   },
   "source": [
    "### **Forecasting with ARMA**"
   ]
  },
  {
   "cell_type": "markdown",
   "id": "c3a02ddf-54ca-40e8-8e2a-3a4049455d8a",
   "metadata": {},
   "source": [
    "**Prose**"
   ]
  },
  {
   "cell_type": "code",
   "execution_count": null,
   "id": "9f1d3365-a152-4f73-9b59-987cc15f61fb",
   "metadata": {},
   "outputs": [],
   "source": [
    "# Loading data\n",
    "xdat = pd.read_csv(data + 'savings_change.csv')\n",
    "\n",
    "xdat.columns = ['date', 'value']\n",
    "xdat['date'] = pd.to_datetime(xdat['date'])\n",
    "\n",
    "xdat.set_index('date').plot();"
   ]
  },
  {
   "cell_type": "code",
   "execution_count": null,
   "id": "cac9dd21-7ac5-44dd-8107-ea9f03528985",
   "metadata": {},
   "outputs": [],
   "source": [
    "# Seasonal decompostion\n",
    "decomp = sm.tsa.seasonal_decompose(xdat['value'], period=12, model='additive')\n",
    "figure = decomp.plot()\n",
    "plt.show();"
   ]
  },
  {
   "cell_type": "code",
   "execution_count": null,
   "id": "f5cd2dab-73a5-453e-a436-89d39902b033",
   "metadata": {},
   "outputs": [],
   "source": [
    "# Formal testing of stationarity with the ADF test\n",
    "val = xdat['value']\n",
    "result = adfuller(val)\n",
    "\n",
    "print(f'ADF Statistic: {result[0]}')\n",
    "print(f'p-value: {result[1]}')\n",
    "print(f'Critical Values: ')\n",
    "for k, v in result[4].items():\n",
    "    print(f'\\t{k}: {v.round(4)}')"
   ]
  },
  {
   "cell_type": "code",
   "execution_count": null,
   "id": "adb81203-5912-432f-9ad4-2179cf197269",
   "metadata": {},
   "outputs": [],
   "source": [
    "plot_acf(val, lags=25); print()"
   ]
  },
  {
   "cell_type": "code",
   "execution_count": null,
   "id": "4f502749-fde4-4d90-81a5-f7326d4acf35",
   "metadata": {},
   "outputs": [],
   "source": [
    "plot_pacf(val, lags=25); print()"
   ]
  },
  {
   "cell_type": "code",
   "execution_count": null,
   "id": "02b206e9-9ef5-491f-b474-822c833738ce",
   "metadata": {},
   "outputs": [],
   "source": [
    "# Splitting the data into training and validation, reserving the last 3 for testing\n",
    "xtrain, xvalid = model_selection.train_test_split(val, test_size=12)"
   ]
  },
  {
   "cell_type": "markdown",
   "id": "d52fd4b4-2026-477d-9a0d-6840d585faa9",
   "metadata": {},
   "source": [
    "`pmdarima` also contains a Fourier featurizer which:\n",
    "- allows users to capture seasonality in the model without worrying about the _seasonal order_ (for pure ARIMA `seasonality=False`).\n",
    "- Creates a set of covariates based on Fourier decomposition.\n",
    "- allows the inclusion of arbitrary length seasonal patterns.\n",
    "- can handle short-term dynamics with a straight-forward ARMA error."
   ]
  },
  {
   "cell_type": "code",
   "execution_count": null,
   "id": "e3df8c0d-4993-47d6-ad92-e7094e537528",
   "metadata": {},
   "outputs": [],
   "source": [
    "# Create pipeline, pre-process features and fit using the pmdarima lib\n",
    "pipe = pipeline.Pipeline([\n",
    "    (\"fourier\", ppc.FourierFeaturizer(m=4)),\n",
    "    (\"arima\", arima.AutoARIMA(stepwise=True, trace=1, error_action=\"ignore\",\n",
    "                             seasonal=False, # using Fourier tfms\n",
    "                             suppress_warnings=True))\n",
    "])\n",
    "\n",
    "pipe.fit(xtrain)"
   ]
  },
  {
   "cell_type": "code",
   "execution_count": null,
   "id": "3e856161-cd79-4ecb-99a3-41f155a1d3e2",
   "metadata": {},
   "outputs": [],
   "source": [
    "pipe.summary()"
   ]
  },
  {
   "cell_type": "code",
   "execution_count": null,
   "id": "8d3a316a-1bd4-432a-892f-17eb96d04f4d",
   "metadata": {},
   "outputs": [],
   "source": [
    "preds, conf_int = pipe.predict(n_periods=xvalid.shape[0], return_conf_int=True)\n",
    "preds = list(preds)\n",
    "print(\"Forecasts:\\n\", preds)"
   ]
  },
  {
   "cell_type": "code",
   "execution_count": null,
   "id": "fb59e02e-2102-4329-b19c-0a583e5f2737",
   "metadata": {},
   "outputs": [],
   "source": [
    "print(\"Confidence Intervals:\\n\", conf_int)"
   ]
  },
  {
   "cell_type": "code",
   "execution_count": null,
   "id": "1fa12985-cd41-4e9b-872e-7d6b4d8d2d31",
   "metadata": {},
   "outputs": [],
   "source": [
    "# Visualize the forecast\n",
    "xvalid = pd.DataFrame(xvalid.values, columns=['actual'])\n",
    "xvalid['predicted'] = preds\n",
    "xvalid.plot();"
   ]
  },
  {
   "cell_type": "markdown",
   "id": "af83c591-c4e0-4c6b-a23b-c841f02f29cc",
   "metadata": {},
   "source": [
    "This model's outputs can be useful directionally useful as a baseline, but not much else.\n",
    "\n",
    "> there is a predictable lag: one period after an increase in the original series the forecast goes up as well; this is due to autoregressive nature of the model.\n",
    "\n",
    "> the model captures the general dynamics of the model, but struggles with the range of values - this is a consequence of the constant variance assumption.\n"
   ]
  },
  {
   "cell_type": "markdown",
   "id": "32470bd3-36b6-4e73-b721-e3aa1d8a1732",
   "metadata": {
    "jp-MarkdownHeadingCollapsed": true
   },
   "source": [
    "## **ARIMA - Modelling Beyond ARMA**"
   ]
  },
  {
   "cell_type": "markdown",
   "id": "34d137f7-ae33-49c8-b168-826637f78c83",
   "metadata": {},
   "source": [
    "**PROSE - TODO**"
   ]
  },
  {
   "cell_type": "code",
   "execution_count": null,
   "id": "f24e0883-23d9-4a96-a565-08d4849a25c2",
   "metadata": {},
   "outputs": [],
   "source": [
    "# Let's load Tesla's daily closing stock price on the NYSE\n",
    "xdat = pd.read_csv(data + 'tesla_prices_5y.csv', usecols=['Date', 'Close'])\n",
    "xdat.columns = ['date', 'value']\n",
    "\n",
    "xdat['date'] = pd.to_datetime(xdat['date'])\n",
    "xdat.set_index('date').plot();"
   ]
  },
  {
   "cell_type": "code",
   "execution_count": null,
   "id": "60f1de95-0353-488a-af96-8782bf186373",
   "metadata": {},
   "outputs": [],
   "source": [
    "# Applying Dickey-Fuller test to check for stationarity\n",
    "val = xdat['value']\n",
    "result = adfuller(val)\n",
    "\n",
    "print(f'ADF Statistic: {result[0].round(4)}')\n",
    "print(f'p-value: {result[1].round(4)}')\n",
    "print(f'Critical Values: ')\n",
    "for k, v in result[4].items():\n",
    "    print(f'\\t{k}: {v.round(4)}')"
   ]
  },
  {
   "cell_type": "code",
   "execution_count": null,
   "id": "5ad79961-3949-41c2-abfc-1848f990ed79",
   "metadata": {},
   "outputs": [],
   "source": [
    "# Using the diff operator to take the difference \n",
    "ydat = xdat['value'].diff()\n",
    "ydat.plot()\n",
    "print()"
   ]
  },
  {
   "cell_type": "code",
   "execution_count": null,
   "id": "747e2dfb-41f6-4514-9bcf-d5e626c6e0d2",
   "metadata": {},
   "outputs": [],
   "source": [
    "# Again, checking for stationarity\n",
    "result = adfuller(ydat.dropna())\n",
    "\n",
    "print(f'ADF Statistic: {result[0].round(4)}')\n",
    "print(f'p-value: {result[1].round(4)}')\n",
    "print(f'Critical Values: ')\n",
    "for k, v in result[4].items():\n",
    "    print(f'\\t{k}: {v.round(4)}')"
   ]
  },
  {
   "cell_type": "markdown",
   "id": "06d14494-b4e9-43a3-b1b9-5f7e3d3d807d",
   "metadata": {},
   "source": [
    "**PROSE - TO DO**"
   ]
  },
  {
   "cell_type": "markdown",
   "id": "3c1e29d4-2d66-4486-8ac3-b6d2cdd5e801",
   "metadata": {
    "jp-MarkdownHeadingCollapsed": true
   },
   "source": [
    "## **SARIMA** - _Incorporating Seasonality_"
   ]
  },
  {
   "cell_type": "code",
   "execution_count": null,
   "id": "ca21dec0-e7b7-4f11-b0c7-f5e77e03e3fe",
   "metadata": {},
   "outputs": [],
   "source": [
    "series = pd.read_csv(data + 'passengers.csv')\n",
    "series['date'] = pd.to_datetime(series['date'])\n",
    "\n",
    "decomp = seasonal_decompose(series['passengers'], period=12, model='multiplicative') \n",
    "figure = decomp.plot()\n",
    "plt.show();"
   ]
  },
  {
   "cell_type": "code",
   "execution_count": null,
   "id": "8d26101d-6470-48d0-95a5-e0a20d0241eb",
   "metadata": {},
   "outputs": [],
   "source": [
    "# Check stationarity\n",
    "result = adfuller(decomp.seasonal)\n",
    "\n",
    "print(f'ADF Statistic: {result[0]}')\n",
    "print(f'p-value: {result[1]}')\n",
    "print(f'Critical Values: ')\n",
    "for k, v in result[4].items():\n",
    "    print(f'\\t{k}: {v.round(4)}')"
   ]
  },
  {
   "cell_type": "code",
   "execution_count": null,
   "id": "1637f9d8-f5ce-4a92-b004-8ed956052b8e",
   "metadata": {},
   "outputs": [],
   "source": [
    "# Plotting PACF\n",
    "plot_pacf(decomp.seasonal, lags=12); print()"
   ]
  },
  {
   "cell_type": "code",
   "execution_count": null,
   "id": "02629224-ad20-4431-8f38-481c80043503",
   "metadata": {},
   "outputs": [],
   "source": [
    "# Plot ACF\n",
    "plot_acf(decomp.seasonal, lags=12); print()"
   ]
  },
  {
   "cell_type": "code",
   "execution_count": null,
   "id": "d5f813a7-80ef-4753-9b36-9b2d3976049f",
   "metadata": {},
   "outputs": [],
   "source": []
  },
  {
   "cell_type": "markdown",
   "id": "55eaa75f-ab27-4d9a-99d9-5beb334cef0e",
   "metadata": {},
   "source": [
    "## **Full Pipeline -  Tackling a _Real World_ Problem**"
   ]
  },
  {
   "cell_type": "markdown",
   "id": "88ee5e22-cd2e-4c60-9905-245ec41b3181",
   "metadata": {},
   "source": [
    "In order to put all the moving parts together, let's build a complete pipeline which is based on the Demand Forecasting competition on Kaggle."
   ]
  },
  {
   "cell_type": "code",
   "execution_count": null,
   "id": "64b000d7-ca21-47ba-b9bd-90ac6d4d790b",
   "metadata": {},
   "outputs": [],
   "source": [
    "#!kaggle competitions download -c demand-forecasting-kernels-only -p data/demand-forecasting "
   ]
  },
  {
   "cell_type": "code",
   "execution_count": null,
   "id": "2ba78ed2-75f5-4e05-a0bc-4441e5908e2d",
   "metadata": {},
   "outputs": [],
   "source": [
    "from pathlib import Path\n",
    "import zipfile\n",
    "cred_path = Path('~/.kaggle/kaggle.json').expanduser()\n",
    "\n",
    "def download_data(dataset, path):\n",
    "    # Create local folder if one doesn't exist\n",
    "    os.makedirs(path, exist_ok=True)\n",
    "    # Call Kaggle API and switch to competitions \n",
    "    kaggle_call = f\"kaggle competitions download -c {dataset} -p {path}\"\n",
    "    subprocess.run(kaggle_call, shell=True, check=True)\n",
    "    # Unzip since CLI wasn't working properly\n",
    "    for file in Path(path).glob(\"*.zip\"):\n",
    "        with zipfile.ZipFile(file, 'r') as zip_ref:\n",
    "            zip_ref.extractall(path)\n",
    "        print(f\"Extracted {file}\")\n",
    "        file.unlink()\n",
    "        \n",
    "    print(f\"Dataset '{dataset}' has been downloaded to '{path}'\")\n",
    "\n",
    "# Download additional datasets from Konrad's NB\n",
    "dataset = \"demand-forecasting-kernels-only\"\n",
    "download_path = \"data/demand-forecasting\"\n",
    "\n",
    "download_data(dataset, download_path)"
   ]
  },
  {
   "cell_type": "code",
   "execution_count": null,
   "id": "f27df2c9-d253-414a-a3d9-5f7c33e5c064",
   "metadata": {},
   "outputs": [],
   "source": [
    "train = pd.read_csv(\"data/demand-forecasting/train.csv\", parse_dates=['date'], index_col='date')\n",
    "test = pd.read_csv(\"data/demand-forecasting/test.csv\", parse_dates=['date'], index_col='date')\n",
    "train.shape, test.shape"
   ]
  },
  {
   "cell_type": "code",
   "execution_count": null,
   "id": "ae6e5eb5-d592-433c-a0ae-617a916d40e8",
   "metadata": {},
   "outputs": [],
   "source": [
    "train.info()"
   ]
  },
  {
   "cell_type": "code",
   "execution_count": null,
   "id": "9d301e93-09bb-4325-b1d6-e6e6fa63ef69",
   "metadata": {},
   "outputs": [],
   "source": [
    "test.info()"
   ]
  },
  {
   "cell_type": "code",
   "execution_count": null,
   "id": "3264b59b-2958-457a-90f3-a2f7e7889d19",
   "metadata": {},
   "outputs": [],
   "source": [
    "# Concat files\n",
    "df = pd.concat([train, test], sort=True)"
   ]
  },
  {
   "cell_type": "code",
   "execution_count": null,
   "id": "05c98ff3-0935-456a-89a0-cda599502232",
   "metadata": {},
   "outputs": [],
   "source": [
    "# Subsetting to one item and store combo\n",
    "buf = df[(df.item==1) & (df.store==1)].copy()\n",
    "buf.head()"
   ]
  },
  {
   "cell_type": "code",
   "execution_count": null,
   "id": "9f81547a-e230-4455-8c62-18acb83b6d4a",
   "metadata": {},
   "outputs": [],
   "source": [
    "# Assess components\n",
    "decomposition = seasonal_decompose(buf.sales.dropna(), period=365)\n",
    "figure = decomposition.plot()\n",
    "plt.show()"
   ]
  },
  {
   "cell_type": "markdown",
   "id": "a0ffb842-b10d-4d3c-828a-25eedd856ff4",
   "metadata": {},
   "source": [
    "Given that we have four years worth of data (so that gives us more than 2 complete cycles), we can model seasonal effects for this exercise."
   ]
  },
  {
   "cell_type": "code",
   "execution_count": null,
   "id": "02c187e4-ee31-4568-9127-8c1b99b70f76",
   "metadata": {},
   "outputs": [],
   "source": [
    "# Skipping the first 2 quarters to align with start of 2014\n",
    "tr_start, tr_end = '2014-01-01', '2017-09-30'\n",
    "te_start, te_end = '2017-10-01', '2017-12-31'\n",
    "\n",
    "x0 = buf['sales'][tr_start:tr_end].dropna()\n",
    "x1 = buf['sales'][te_start:te_end].dropna()"
   ]
  },
  {
   "cell_type": "code",
   "execution_count": null,
   "id": "4f8926f6-e7b6-4670-897a-109cc655ce45",
   "metadata": {},
   "outputs": [],
   "source": [
    "x0.shape, x1.shape"
   ]
  },
  {
   "cell_type": "code",
   "execution_count": null,
   "id": "cdf4c697-222a-4d9c-88cc-b05b174302a6",
   "metadata": {},
   "outputs": [],
   "source": [
    "plot_acf(x0, lags=12); print()\n",
    "plot_pacf(x0, lags=12); print()"
   ]
  },
  {
   "cell_type": "markdown",
   "id": "4383f0f4-1796-4eed-ab76-476ae208553d",
   "metadata": {},
   "source": [
    "Conducting a grid search for model order coefficients."
   ]
  },
  {
   "cell_type": "code",
   "execution_count": null,
   "id": "ff3fe326-6d16-41cb-9314-e2edbde896ce",
   "metadata": {},
   "outputs": [],
   "source": [
    "model_autoARIMA = auto_arima(x0, start_p=7, start_q=7, test='adf', \n",
    "                             max_p=7, max_q=7,\n",
    "                             m=7, d=1,\n",
    "                             seasonal=True,\n",
    "                             start_P=1, D=1,\n",
    "                             trace=True,\n",
    "                             error_action='ignore',\n",
    "                             suppress_warnings=True,\n",
    "                             stepwise=True)"
   ]
  },
  {
   "cell_type": "code",
   "execution_count": null,
   "id": "63510dc1-efe9-404d-bc4e-c42085221754",
   "metadata": {},
   "outputs": [],
   "source": [
    "print(model_autoARIMA.summary())"
   ]
  },
  {
   "cell_type": "code",
   "execution_count": null,
   "id": "78f60bde-d5e3-40ba-b6fa-59e15d5debec",
   "metadata": {},
   "outputs": [],
   "source": [
    "model_autoARIMA.plot_diagnostics()\n",
    "plt.show();"
   ]
  },
  {
   "cell_type": "code",
   "execution_count": null,
   "id": "6402a656-9b64-4328-957a-f54db99c902d",
   "metadata": {},
   "outputs": [],
   "source": [
    "pred = model_autoARIMA.predict(x1.shape[0])\n",
    "\n",
    "pd.DataFrame({'test': x1, 'pred': pred}).plot()\n",
    "plt.show();"
   ]
  },
  {
   "cell_type": "markdown",
   "id": "b4188eff-700c-4870-9d42-d8fddab99c39",
   "metadata": {},
   "source": [
    "While the model does a decent job of capturing the the dynamics of this particular time series, it can't seem to adjust for variations in the ranges of values, especially for more recent data."
   ]
  },
  {
   "cell_type": "markdown",
   "id": "50729078-8568-47f4-8f3f-0a62f872a2ea",
   "metadata": {},
   "source": [
    "## **Comparative Performance with Prophet**"
   ]
  },
  {
   "cell_type": "markdown",
   "id": "8067a4a9-4092-4c5a-b553-0884b9606393",
   "metadata": {},
   "source": [
    "It is always useful to compare \"classic\" approaches with more recent models, like Prophet. While the latter has been dicredited for its inability to produce probabilistic forecasts, leading to some spurious predictions, it should nonetheless be an informative exercise."
   ]
  },
  {
   "cell_type": "code",
   "execution_count": null,
   "id": "d87c00b2-2853-42bd-a5e9-595f89b20198",
   "metadata": {},
   "outputs": [],
   "source": [
    "stock = 'TATASTEEL'"
   ]
  },
  {
   "cell_type": "markdown",
   "id": "2bfe1c03-d6a6-4860-97ea-5da7875bce47",
   "metadata": {},
   "source": [
    "NOTE - Cleanup-- merge this function and the previous one "
   ]
  },
  {
   "cell_type": "code",
   "execution_count": null,
   "id": "60ddfe7b-89da-4e8d-8e67-e15c663b5b2a",
   "metadata": {},
   "outputs": [],
   "source": [
    "def download_data(dataset, path):\n",
    "    # Create local folder if one doesn't exist\n",
    "    os.makedirs(path, exist_ok=True)\n",
    "    # Call Kaggle API\n",
    "    kaggle_call = f\"kaggle datasets download -d {dataset} -p {path} --unzip\"\n",
    "    subprocess.run(kaggle_call, shell=True, check=True)\n",
    "    print(f\"Dataset '{dataset}' has been downloaded to '{path}'\")\n",
    "\n",
    "# Download additional datasets from Konrad's NB\n",
    "dataset = \"rohanrao/nifty50-stock-market-data\"\n",
    "download_path = \"data/nifty50-stocks\"\n",
    "\n",
    "download_data(dataset, download_path)"
   ]
  },
  {
   "cell_type": "code",
   "execution_count": null,
   "id": "80238a48-cf37-4a8a-ad9c-4955a5553af3",
   "metadata": {},
   "outputs": [],
   "source": [
    "df = pd.read_csv('data/nifty50-stocks/' + stock + '.csv')\n",
    "df.set_index(\"Date\", drop=False, inplace=True)\n",
    "\n",
    "df.head(5)"
   ]
  },
  {
   "cell_type": "code",
   "execution_count": null,
   "id": "73eb5b3e-8b17-4e8f-be22-764a7ef636fe",
   "metadata": {},
   "outputs": [],
   "source": [
    "df.Symbol.value_counts()"
   ]
  },
  {
   "cell_type": "code",
   "execution_count": null,
   "id": "1ad3699f-08f7-48aa-b384-4f145f05eae3",
   "metadata": {},
   "outputs": [],
   "source": [
    "# Plotting the target\n",
    "df.VWAP.plot();"
   ]
  },
  {
   "cell_type": "code",
   "execution_count": null,
   "id": "2e413f5f-f82a-4551-951b-7b5484c40f58",
   "metadata": {},
   "outputs": [],
   "source": [
    "df.head()"
   ]
  },
  {
   "cell_type": "code",
   "execution_count": null,
   "id": "ec37276c-216e-4297-8419-b6cfa563536d",
   "metadata": {},
   "outputs": [],
   "source": [
    "# Constructing basic features for the purpose of explanatory variables.\n",
    "# Rolling statistics over the last 3 days for the price and volume dynamics\n",
    "lag_features = [\"High\", \"Low\", \"Volume\"]\n",
    "window_size = 3\n",
    "\n",
    "df_rolled = df[lag_features].rolling(window=window_size, min_periods=0)\n",
    "df_mean = df_rolled.mean().shift(1).reset_index()\n",
    "df_std = df_rolled.std().shift(1).reset_index()\n",
    "\n",
    "for feature in lag_features:\n",
    "    df[feature + '_mean_lag' + str(window_size)] = df_mean[feature].values\n",
    "    df[feature + '_std_lag' + str(window_size)] = df_std[feature].values"
   ]
  },
  {
   "cell_type": "code",
   "execution_count": null,
   "id": "9280fb4d-df64-43f5-a6bc-13932164b2c7",
   "metadata": {},
   "outputs": [],
   "source": [
    "df.isna().sum()"
   ]
  },
  {
   "cell_type": "code",
   "execution_count": null,
   "id": "9f8e284c-cb57-48ea-b9bd-203b89d097e6",
   "metadata": {},
   "outputs": [],
   "source": [
    "means = ['Trades', 'Deliverable Volume', '%Deliverble', 'High_mean_lag3', 'High_std_lag3', 'Low_mean_lag3',\n",
    "         'Low_std_lag3', 'Volume_mean_lag3', 'Volume_std_lag3']"
   ]
  },
  {
   "cell_type": "code",
   "execution_count": null,
   "id": "bbf413a3-7f2e-47d2-90e6-6b55339b84fc",
   "metadata": {},
   "outputs": [],
   "source": [
    "df[means].mean()"
   ]
  },
  {
   "cell_type": "code",
   "execution_count": null,
   "id": "a9e238dd-e8af-40a7-95f7-86271efacc91",
   "metadata": {},
   "outputs": [],
   "source": [
    "# Replace Nans with means\n",
    "col_means = df[means].mean()\n",
    "df.fillna(col_means, inplace=True)"
   ]
  },
  {
   "cell_type": "code",
   "execution_count": null,
   "id": "bb524b28-f7b5-48f3-ae26-43ade6dde350",
   "metadata": {},
   "outputs": [],
   "source": [
    "# Verifying results\n",
    "df.isna().sum()"
   ]
  },
  {
   "cell_type": "code",
   "execution_count": null,
   "id": "6287def8-86de-49e8-a89a-5862ce3f43a8",
   "metadata": {},
   "outputs": [],
   "source": [
    "# Prepare training and validation splits\n",
    "df_train = df[df.Date < \"2019\"]\n",
    "df_valid = df[df.Date >= \"2019\"]\n",
    "\n",
    "exogenous_features = ['High_mean_lag3', 'High_std_lag3', 'Low_mean_lag3',\n",
    "       'Low_std_lag3', 'Volume_mean_lag3', 'Volume_std_lag3',]"
   ]
  },
  {
   "cell_type": "code",
   "execution_count": null,
   "id": "8a6506bf-b38a-475d-8650-68eedd559a35",
   "metadata": {},
   "outputs": [],
   "source": [
    "df_train.VWAP.describe()"
   ]
  },
  {
   "cell_type": "code",
   "execution_count": null,
   "id": "980245b8-ab11-4d47-953f-b752dba1b4d4",
   "metadata": {},
   "outputs": [],
   "source": [
    "# Fitting Arima\n",
    "model_arima = auto_arima(df_train.VWAP, exogenous=df_train[exogenous_features],\n",
    "                         m=7,\n",
    "                         # Ranges for p,q,P,Q parameters - flexible\n",
    "                         max_p=2, max_q=2,\n",
    "                         max_P=1, max_Q=1,\n",
    "                         trace=True, error_action=\"ignore\", suppress_warnings=True)\n",
    "model_arima.fit(df_train.VWAP, exogenous=df_train[exogenous_features])\n",
    "\n",
    "forecast = model_arima.predict(n_periods=len(df_valid), exogenous=df_valid[exogenous_features])"
   ]
  },
  {
   "cell_type": "code",
   "execution_count": null,
   "id": "a8fc2f2f-d3cc-4895-a9a5-ff1b864fd6ed",
   "metadata": {},
   "outputs": [],
   "source": [
    "forecast.describe()"
   ]
  },
  {
   "cell_type": "code",
   "execution_count": null,
   "id": "39314bfd-7629-42ff-9d5b-06fe72f4caf6",
   "metadata": {},
   "outputs": [],
   "source": [
    "# Fit the data to a Prophet model using default parameters\n",
    "df = df_train[['Date', 'VWAP']].rename(columns={\"Date\": \"ds\", \"VWAP\": \"y\"})\n",
    "\n",
    "model_prophet = Prophet()\n",
    "\n",
    "# Adding exogenous variables\n",
    "for f in exogenous_features:\n",
    "    df[f] = df_train[f]\n",
    "    model_prophet.add_regressor(f)\n",
    "\n",
    "model_prophet.fit(df)"
   ]
  },
  {
   "cell_type": "code",
   "execution_count": null,
   "id": "bc766ba5-c3d5-44ed-a953-dcf41492e5df",
   "metadata": {},
   "outputs": [],
   "source": [
    "# Renaming cols for plotting\n",
    "forecast = model_prophet.predict(df_valid[[\"Date\", \"VWAP\"] + exogenous_features].rename(columns={\"Date\": \"ds\"}))\n",
    "df_valid[\"Forecast_Prophet\"] = forecast.yhat.values"
   ]
  },
  {
   "cell_type": "code",
   "execution_count": null,
   "id": "eaf62a99-1a1e-46b6-9bf7-248d89b1e29c",
   "metadata": {},
   "outputs": [],
   "source": [
    "df_valid[[\"VWAP\", \"Forecast_ARIMAX\", \"Forecast_Prophet\"]].plot();"
   ]
  },
  {
   "cell_type": "code",
   "execution_count": null,
   "id": "c876e737-60c3-4f91-8317-10b43205a7d6",
   "metadata": {},
   "outputs": [],
   "source": [
    "df_valid"
   ]
  },
  {
   "cell_type": "code",
   "execution_count": null,
   "id": "8a05160b-fe9e-4799-86c1-4fe1a3f53207",
   "metadata": {},
   "outputs": [],
   "source": []
  }
 ],
 "metadata": {
  "kernelspec": {
   "display_name": "Python 3 (ipykernel)",
   "language": "python",
   "name": "python3"
  },
  "language_info": {
   "codemirror_mode": {
    "name": "ipython",
    "version": 3
   },
   "file_extension": ".py",
   "mimetype": "text/x-python",
   "name": "python",
   "nbconvert_exporter": "python",
   "pygments_lexer": "ipython3",
   "version": "3.10.14"
  },
  "widgets": {
   "application/vnd.jupyter.widget-state+json": {
    "state": {},
    "version_major": 2,
    "version_minor": 0
   }
  }
 },
 "nbformat": 4,
 "nbformat_minor": 5
}
