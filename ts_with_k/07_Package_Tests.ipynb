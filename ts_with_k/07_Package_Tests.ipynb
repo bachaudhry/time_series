{
 "cells": [
  {
   "cell_type": "markdown",
   "id": "3bb99fac-3f73-45ed-b347-6eb3f62b2288",
   "metadata": {},
   "source": [
    "# **Tesing \"One Stop Shop\" Packages**"
   ]
  },
  {
   "cell_type": "code",
   "execution_count": 1,
   "id": "9864f73d-e380-4613-80a4-f4ebfc594996",
   "metadata": {},
   "outputs": [],
   "source": [
    "import itertools\n",
    "import pandas as pd\n",
    "import numpy as np\n",
    "from random import gauss\n",
    "\n",
    "from sklearn.metrics import mean_squared_error as mse\n",
    "from sklearn.linear_model import Ridge\n",
    "\n",
    "import matplotlib.pyplot as plt\n",
    "plt.style.use('fivethirtyeight')\n",
    "\n",
    "import warnings \n",
    "warnings.simplefilter(action='ignore', category=FutureWarning)"
   ]
  },
  {
   "cell_type": "code",
   "execution_count": 2,
   "id": "0bfad4f2-73ad-410a-a940-f1c67ada8bae",
   "metadata": {},
   "outputs": [],
   "source": [
    "# Setup\n",
    "data = 'data/'\n",
    "\n",
    "class CFG:\n",
    "    img_dim1 = 10\n",
    "    img_dim2 = 6\n",
    "    fontsize = 8\n",
    "    marker = 1.5\n",
    "    lines = 1.3\n",
    "\n",
    "# plt.rcParams.keys() to list params\n",
    "# adjust the parameters for displayed figures    \n",
    "plt.rcParams.update({'figure.figsize': (CFG.img_dim1,CFG.img_dim2),\n",
    "                     'font.size': (CFG.fontsize),\n",
    "                     'lines.markersize': (CFG.marker),\n",
    "                     'lines.linewidth': (CFG.lines)})  "
   ]
  },
  {
   "cell_type": "code",
   "execution_count": 3,
   "id": "409eeb2f-e3bc-4fbd-a8bb-c2f4070d0a9c",
   "metadata": {},
   "outputs": [],
   "source": [
    "# Func to calculate RMSE\n",
    "def rmse(x, y):\n",
    "    return (np.round(np.sqrt(mse(x, y)), 4))"
   ]
  },
  {
   "cell_type": "code",
   "execution_count": 4,
   "id": "a5d9eead-4733-4c54-b3b9-73b1fd5cc3ac",
   "metadata": {},
   "outputs": [],
   "source": [
    "# Get data from kaggle\n",
    "from pathlib import Path\n",
    "import zipfile\n",
    "cred_path = Path('~/.kaggle/kaggle.json').expanduser()\n",
    "\n",
    "def download_data(dataset, path, comp_check=True):\n",
    "    os.makedirs(path, exist_ok=True)\n",
    "    if any(Path(path).glob(\"*.zip\")) or any(Path(path).iterdir()):\n",
    "        print(f\"Files already exist in '{path}'. Skipping download.\")\n",
    "        return\n",
    "    if comp_check: kaggle_call = f\"kaggle competitions download -c {dataset} -p {path}\"\n",
    "    else         : kaggle_call = f\"kaggle datasets download -d {dataset} -p {path} --unzip\"\n",
    "    subprocess.run(kaggle_call, shell=True, check=True)\n",
    "    for file in Path(path).glob(\"*.zip\"):\n",
    "        with zipfile.ZipFile(file, 'r') as zip_ref:\n",
    "            zip_ref.extractall(path)\n",
    "        print(f\"Extracted {file}\")\n",
    "        file.unlink()\n",
    "    print(f\"Dataset '{dataset}' has been downloaded to '{path}'\")"
   ]
  },
  {
   "cell_type": "code",
   "execution_count": null,
   "id": "33061398-47da-4269-9510-04039fc177f3",
   "metadata": {},
   "outputs": [],
   "source": []
  },
  {
   "cell_type": "code",
   "execution_count": null,
   "id": "510da972-471a-4231-8557-067fd7c77db5",
   "metadata": {},
   "outputs": [],
   "source": []
  },
  {
   "cell_type": "code",
   "execution_count": null,
   "id": "a72595ca-b2f8-4d4f-a8cc-70dda175157c",
   "metadata": {},
   "outputs": [],
   "source": []
  },
  {
   "cell_type": "code",
   "execution_count": null,
   "id": "8bfc0251-8541-4ebc-ae57-1f866448b9bc",
   "metadata": {},
   "outputs": [],
   "source": []
  },
  {
   "cell_type": "code",
   "execution_count": null,
   "id": "17fcbdff-f864-4263-8413-7e51a98d934d",
   "metadata": {},
   "outputs": [],
   "source": []
  },
  {
   "cell_type": "code",
   "execution_count": null,
   "id": "0e9ff855-45af-49e9-8734-cc46b77f56a6",
   "metadata": {},
   "outputs": [],
   "source": []
  },
  {
   "cell_type": "code",
   "execution_count": null,
   "id": "f23dfd2f-867c-4e02-b5af-465948fe10a9",
   "metadata": {},
   "outputs": [],
   "source": []
  },
  {
   "cell_type": "code",
   "execution_count": null,
   "id": "4a2ce84e-5425-42ef-bced-5f9b5eaa0e06",
   "metadata": {},
   "outputs": [],
   "source": []
  },
  {
   "cell_type": "code",
   "execution_count": null,
   "id": "26afdc32-32d6-4c95-932d-7fd65f8b4c0c",
   "metadata": {},
   "outputs": [],
   "source": []
  },
  {
   "cell_type": "code",
   "execution_count": null,
   "id": "f13ed65f-baec-48ed-82e5-33a14c17ff20",
   "metadata": {},
   "outputs": [],
   "source": []
  },
  {
   "cell_type": "code",
   "execution_count": null,
   "id": "56edc490-6870-4927-b326-003a1e231146",
   "metadata": {},
   "outputs": [],
   "source": []
  },
  {
   "cell_type": "code",
   "execution_count": null,
   "id": "2234a152-d291-4870-bec4-d78a8e2008ed",
   "metadata": {},
   "outputs": [],
   "source": []
  },
  {
   "cell_type": "code",
   "execution_count": null,
   "id": "c230491a-ea8f-42fe-98dd-c16c26a329ad",
   "metadata": {},
   "outputs": [],
   "source": []
  },
  {
   "cell_type": "code",
   "execution_count": null,
   "id": "3c462f85-8d62-40f3-97bb-ce5b2f4360db",
   "metadata": {},
   "outputs": [],
   "source": []
  }
 ],
 "metadata": {
  "kernelspec": {
   "display_name": "Python 3 (ipykernel)",
   "language": "python",
   "name": "python3"
  },
  "language_info": {
   "codemirror_mode": {
    "name": "ipython",
    "version": 3
   },
   "file_extension": ".py",
   "mimetype": "text/x-python",
   "name": "python",
   "nbconvert_exporter": "python",
   "pygments_lexer": "ipython3",
   "version": "3.10.14"
  },
  "widgets": {
   "application/vnd.jupyter.widget-state+json": {
    "state": {},
    "version_major": 2,
    "version_minor": 0
   }
  }
 },
 "nbformat": 4,
 "nbformat_minor": 5
}
