{
 "cells": [
  {
   "cell_type": "markdown",
   "id": "239bc0f1-6b28-4116-b4ca-eb188cfc60aa",
   "metadata": {},
   "source": [
    "# **Sales and Demand Forecasting**"
   ]
  },
  {
   "cell_type": "markdown",
   "id": "d215dab5-9682-43d3-bbc0-0980d34b534e",
   "metadata": {},
   "source": [
    "## **Setup**"
   ]
  },
  {
   "cell_type": "code",
   "execution_count": 5,
   "id": "30d08c13-e53a-4011-b9de-c1fe3ca3a7aa",
   "metadata": {},
   "outputs": [],
   "source": [
    "import pandas as pd\n",
    "import numpy as np\n",
    "from random import gauss, shuffle\n",
    "import os, warnings, gc, copy, itertools, subprocess\n",
    "import matplotlib.pyplot as plt\n",
    "from datetime import datetime, timedelta\n",
    "\n",
    "from statsmodels.graphics.tsaplots import plot_acf, plot_pacf\n",
    "from statsmodels.stats.diagnostic import het_arch, acorr_ljungbox\n",
    "\n",
    "from sklearn.metrics import mean_absolute_percentage_error as mape, mean_squared_error as mse\n",
    "from scipy.stats import shapiro, probplot\n",
    "from sklearn.preprocessing import LabelEncoder, OneHotEncoder\n",
    "from sklearn.linear_model import LinearRegression, Ridge\n",
    "from sklearn.multioutput import MultiOutputRegressor\n",
    "from sklearn.cluster import KMeans\n",
    "\n",
    "import lightgbm as lgb\n",
    "from gensim.models import Word2Vec # requires scipy<1.3 due to deprecation of lin. alg. funcs.\n",
    "\n",
    "plt.style.use('fivethirtyeight')\n",
    "warnings.simplefilter(action='ignore', category=FutureWarning)"
   ]
  },
  {
   "cell_type": "code",
   "execution_count": 6,
   "id": "1e8f7030-5996-4104-83ea-248772673876",
   "metadata": {},
   "outputs": [],
   "source": [
    "# Setup\n",
    "data = 'data/'\n",
    "\n",
    "class CFG:\n",
    "    img_dim1 = 12\n",
    "    img_dim2 = 7\n",
    "    fontsize = 8\n",
    "    marker = 2\n",
    "    lines = 1.5\n",
    "\n",
    "# plt.rcParams.keys() to list params\n",
    "# adjust the parameters for displayed figures    \n",
    "plt.rcParams.update({'figure.figsize': (CFG.img_dim1,CFG.img_dim2),\n",
    "                     'font.size': (CFG.fontsize),\n",
    "                     'lines.markersize': (CFG.marker),\n",
    "                     'lines.linewidth': (CFG.lines)})   "
   ]
  },
  {
   "cell_type": "code",
   "execution_count": 9,
   "id": "683f7342-ccbb-4ae6-9371-72724b397e7a",
   "metadata": {},
   "outputs": [],
   "source": [
    "# Get data from kaggle\n",
    "from pathlib import Path\n",
    "import zipfile\n",
    "cred_path = Path('~/.kaggle/kaggle.json').expanduser()\n",
    "\n",
    "def download_data(dataset, path, comp_check=True):\n",
    "    os.makedirs(path, exist_ok=True)\n",
    "    if comp_check==True: kaggle_call = f\"kaggle competitions download -c {dataset} -p {path}\"\n",
    "    else               : kaggle_call = f\"kaggle datasets download -d {dataset} -p {path} --unzip\"\n",
    "    subprocess.run(kaggle_call, shell=True, check=True)\n",
    "    for file in Path(path).glob(\"*.zip\"):\n",
    "        with zipfile.ZipFile(file, 'r') as zip_ref:\n",
    "            zip_ref.extractall(path)\n",
    "        print(f\"Extracted {file}\")\n",
    "        file.unlink()\n",
    "    print(f\"Dataset '{dataset}' has been downloaded to '{path}'\")"
   ]
  },
  {
   "cell_type": "code",
   "execution_count": 10,
   "id": "033f1fcc-5e18-4802-b0b4-c8ffc1a919ce",
   "metadata": {},
   "outputs": [
    {
     "name": "stdout",
     "output_type": "stream",
     "text": [
      "Downloading m5-forecasting-accuracy.zip to data/sales-forecasting/m5\n"
     ]
    },
    {
     "name": "stderr",
     "output_type": "stream",
     "text": [
      "100%|██████████| 45.8M/45.8M [00:17<00:00, 2.77MB/s]\n"
     ]
    },
    {
     "name": "stdout",
     "output_type": "stream",
     "text": [
      "\n",
      "Extracted data/sales-forecasting/m5/m5-forecasting-accuracy.zip\n",
      "Dataset 'm5-forecasting-accuracy' has been downloaded to 'data/sales-forecasting/m5/'\n"
     ]
    }
   ],
   "source": [
    "# Download M data\n",
    "dataset = \"m5-forecasting-accuracy\"\n",
    "download_path = \"data/sales-forecasting/m5/\"\n",
    "\n",
    "download_data(dataset, download_path)"
   ]
  },
  {
   "cell_type": "code",
   "execution_count": 12,
   "id": "e6e647ec-e842-4fb0-a8c0-aa95a8ed3e08",
   "metadata": {},
   "outputs": [
    {
     "name": "stdout",
     "output_type": "stream",
     "text": [
      "Dataset URL: https://www.kaggle.com/datasets/konradb/partial-visuelle\n",
      "License(s): unknown\n",
      "Downloading partial-visuelle.zip to data/sales-forecasting/partial-visuelle\n"
     ]
    },
    {
     "name": "stderr",
     "output_type": "stream",
     "text": [
      "  0%|          | 0.00/247k [00:00<?, ?B/s]"
     ]
    },
    {
     "name": "stdout",
     "output_type": "stream",
     "text": [
      "\n",
      "Dataset 'konradb/partial-visuelle' has been downloaded to 'data/sales-forecasting/partial-visuelle/'\n"
     ]
    },
    {
     "name": "stderr",
     "output_type": "stream",
     "text": [
      "100%|██████████| 247k/247k [00:00<00:00, 284kB/s]\n"
     ]
    }
   ],
   "source": [
    "# Download M data\n",
    "dataset = \"konradb/partial-visuelle\"\n",
    "download_path = \"data/sales-forecasting/partial-visuelle/\"\n",
    "\n",
    "download_data(dataset, download_path, comp_check=False)"
   ]
  },
  {
   "cell_type": "markdown",
   "id": "8677b031-7a47-4116-8a7d-13d9d46521fe",
   "metadata": {},
   "source": [
    "## **Data**"
   ]
  },
  {
   "cell_type": "markdown",
   "id": "418df927-9ab0-480b-88f0-dbe31894eebd",
   "metadata": {},
   "source": [
    "We will be working with data from the M5 competition titled [\"M5 Forecasting Accuracy\"](https://www.kaggle.com/c/m5-forecasting-accuracy).\n",
    "\n",
    ">  The contest used a hierarchical sales data from Walmart to forecast daily sales for the next 28 days. From the comp description page: \"The data covers stores in three US States (California, Texas, and Wisconsin) and includes item level, department, product categories, and store details. In addition, it has explanatory variables such as price, promotions, day of the week, and special events\"."
   ]
  },
  {
   "cell_type": "code",
   "execution_count": null,
   "id": "4cfd15aa-f0c1-475e-bdbd-1667d99d761d",
   "metadata": {},
   "outputs": [],
   "source": [
    "# Load and format the data\n",
    "xdat = pd.read_csv('data/m5')"
   ]
  },
  {
   "cell_type": "code",
   "execution_count": null,
   "id": "fecfb591-21b7-4973-9847-11cb0a53010a",
   "metadata": {},
   "outputs": [],
   "source": []
  },
  {
   "cell_type": "code",
   "execution_count": null,
   "id": "335cfc59-bd76-4134-bdfd-ac9dad04229a",
   "metadata": {},
   "outputs": [],
   "source": []
  },
  {
   "cell_type": "code",
   "execution_count": null,
   "id": "75de1052-56ed-4b17-892d-008eadf08c5d",
   "metadata": {},
   "outputs": [],
   "source": []
  },
  {
   "cell_type": "code",
   "execution_count": null,
   "id": "6bfc81ed-1590-44ef-a924-63b768edf322",
   "metadata": {},
   "outputs": [],
   "source": []
  },
  {
   "cell_type": "code",
   "execution_count": null,
   "id": "ebd35b12-ea02-40e0-88c6-5cf8d4609109",
   "metadata": {},
   "outputs": [],
   "source": []
  },
  {
   "cell_type": "code",
   "execution_count": null,
   "id": "f69e8268-3f74-4523-bf6c-aff093df5b18",
   "metadata": {},
   "outputs": [],
   "source": []
  },
  {
   "cell_type": "code",
   "execution_count": null,
   "id": "51b1fb43-8b97-456e-86b7-0fba27330a50",
   "metadata": {},
   "outputs": [],
   "source": []
  },
  {
   "cell_type": "code",
   "execution_count": null,
   "id": "27fe6fc2-7b15-4301-a207-0aafc081cb33",
   "metadata": {},
   "outputs": [],
   "source": []
  },
  {
   "cell_type": "code",
   "execution_count": null,
   "id": "ee3e7b67-86fe-4a7b-b43e-117ed6ea7cd6",
   "metadata": {},
   "outputs": [],
   "source": []
  },
  {
   "cell_type": "code",
   "execution_count": null,
   "id": "c797f561-df85-4909-bdd1-2affef2e22d8",
   "metadata": {},
   "outputs": [],
   "source": []
  },
  {
   "cell_type": "code",
   "execution_count": null,
   "id": "9676d7f3-a7ed-4235-8933-d5edb7b6ec41",
   "metadata": {},
   "outputs": [],
   "source": []
  },
  {
   "cell_type": "code",
   "execution_count": null,
   "id": "671a3dc7-7c7b-4941-af0b-3e1a3ba88750",
   "metadata": {},
   "outputs": [],
   "source": []
  },
  {
   "cell_type": "code",
   "execution_count": null,
   "id": "33e7cdf7-5d67-42f8-96e3-dbbcc545c085",
   "metadata": {},
   "outputs": [],
   "source": []
  },
  {
   "cell_type": "code",
   "execution_count": null,
   "id": "649fdbcf-ad83-40f6-aa7c-e0ccf2d14c5c",
   "metadata": {},
   "outputs": [],
   "source": []
  },
  {
   "cell_type": "code",
   "execution_count": null,
   "id": "6ed83f2b-2dbe-4a74-8148-e57830822a80",
   "metadata": {},
   "outputs": [],
   "source": []
  },
  {
   "cell_type": "code",
   "execution_count": null,
   "id": "56d83d50-6e8e-41e1-9862-5352014b39e4",
   "metadata": {},
   "outputs": [],
   "source": []
  },
  {
   "cell_type": "code",
   "execution_count": null,
   "id": "a7d3f35c-2b5e-4aa9-9abe-d4e4f1ee532f",
   "metadata": {},
   "outputs": [],
   "source": []
  },
  {
   "cell_type": "code",
   "execution_count": null,
   "id": "4d823e59-c26f-4c3f-b49f-ee86043f788b",
   "metadata": {},
   "outputs": [],
   "source": []
  }
 ],
 "metadata": {
  "kernelspec": {
   "display_name": "Python 3 (ipykernel)",
   "language": "python",
   "name": "python3"
  },
  "language_info": {
   "codemirror_mode": {
    "name": "ipython",
    "version": 3
   },
   "file_extension": ".py",
   "mimetype": "text/x-python",
   "name": "python",
   "nbconvert_exporter": "python",
   "pygments_lexer": "ipython3",
   "version": "3.10.14"
  },
  "widgets": {
   "application/vnd.jupyter.widget-state+json": {
    "state": {},
    "version_major": 2,
    "version_minor": 0
   }
  }
 },
 "nbformat": 4,
 "nbformat_minor": 5
}
