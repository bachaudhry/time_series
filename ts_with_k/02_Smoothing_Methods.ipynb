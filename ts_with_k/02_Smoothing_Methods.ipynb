{
 "cells": [
  {
   "cell_type": "markdown",
   "id": "89677ec6-7546-4d65-ace0-fb62ff948e88",
   "metadata": {},
   "source": [
    "## **Time Series Prediction With Smoothing Methods**"
   ]
  },
  {
   "cell_type": "markdown",
   "id": "030addcd-e885-45a9-9f80-1bf2e29fdb0b",
   "metadata": {},
   "source": [
    "The second part of Konrad's series deals with the application of vintage time series prediction methods, namely **Exponential Smoothing**, which have been around since the 1950s. According to Konrad's [NB](https://www.kaggle.com/code/konradb/ts-1a-smoothing-methods):\n",
    "> ...(these) ideas were variations around the topic of exponential smoothing: weighted averages of past observations, with the weights decaying exponentially as the observations get older. A huge practical advantage of those methods that one only needs the previous smoothed value and current time series value to create a forecast for the next step - an important aspect in an era when a computer had less memory than a cheapest smartphone available in the market today.\n",
    "\n",
    "> As computing power became more available, exponential smoothing methods started fading into the \"historical\" section of statistics guide - until people started realizing that with the latency requirements of trading or e-commerce, speed is more important that additional 5pct improvement in error and one-step forecasts started making a comeback."
   ]
  },
  {
   "cell_type": "code",
   "execution_count": null,
   "id": "e26a5ad1-9188-49b7-9915-a0012ad6a68e",
   "metadata": {},
   "outputs": [],
   "source": []
  },
  {
   "cell_type": "code",
   "execution_count": null,
   "id": "47faaef7-db0c-48a0-be03-b4a445f8f9fd",
   "metadata": {},
   "outputs": [],
   "source": []
  },
  {
   "cell_type": "code",
   "execution_count": null,
   "id": "6d320ad1-7fe5-458a-8e4c-29732b639150",
   "metadata": {},
   "outputs": [],
   "source": []
  },
  {
   "cell_type": "code",
   "execution_count": null,
   "id": "83e6e80a-fc64-4b16-be79-3192c23fbcd8",
   "metadata": {},
   "outputs": [],
   "source": []
  },
  {
   "cell_type": "code",
   "execution_count": null,
   "id": "f7c16490-33c1-4476-ae6f-dc2a7ebaa461",
   "metadata": {},
   "outputs": [],
   "source": []
  },
  {
   "cell_type": "code",
   "execution_count": null,
   "id": "9e456fb2-7c4a-45d0-9a1f-78441fd641fe",
   "metadata": {},
   "outputs": [],
   "source": []
  },
  {
   "cell_type": "code",
   "execution_count": null,
   "id": "74f888bc-348a-498d-aa39-ba6a8c7a241c",
   "metadata": {},
   "outputs": [],
   "source": []
  },
  {
   "cell_type": "code",
   "execution_count": null,
   "id": "3072a5b6-d30f-4dc5-8afe-07a2aebdb262",
   "metadata": {},
   "outputs": [],
   "source": []
  },
  {
   "cell_type": "code",
   "execution_count": null,
   "id": "33fee8e1-637a-495a-972d-675d3a8bfe3a",
   "metadata": {},
   "outputs": [],
   "source": []
  },
  {
   "cell_type": "code",
   "execution_count": null,
   "id": "132d733e-c2f4-45b3-a192-a84eb0639d00",
   "metadata": {},
   "outputs": [],
   "source": []
  },
  {
   "cell_type": "code",
   "execution_count": null,
   "id": "f602966d-909b-4509-b98b-1fba8e09434f",
   "metadata": {},
   "outputs": [],
   "source": []
  }
 ],
 "metadata": {
  "kernelspec": {
   "display_name": "Python 3 (ipykernel)",
   "language": "python",
   "name": "python3"
  },
  "language_info": {
   "codemirror_mode": {
    "name": "ipython",
    "version": 3
   },
   "file_extension": ".py",
   "mimetype": "text/x-python",
   "name": "python",
   "nbconvert_exporter": "python",
   "pygments_lexer": "ipython3",
   "version": "3.10.14"
  },
  "widgets": {
   "application/vnd.jupyter.widget-state+json": {
    "state": {},
    "version_major": 2,
    "version_minor": 0
   }
  }
 },
 "nbformat": 4,
 "nbformat_minor": 5
}
