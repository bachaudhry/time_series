{
 "cells": [
  {
   "cell_type": "markdown",
   "id": "2647b739-bc52-4c9e-a456-6932a4ee8c0d",
   "metadata": {},
   "source": [
    "# Getting Started with Time Series"
   ]
  },
  {
   "cell_type": "markdown",
   "id": "f773ad34-22c3-4c83-911a-0d06404c9d4f",
   "metadata": {},
   "source": [
    "This notebook is my runthrough of [Konrad Banachewicz's excellent collection of tutorials](https://www.kaggle.com/code/konradb/ts-0-the-basics) covering most of the _non-transformer_ based modeling approaches used in this area. \n",
    "\n",
    "Videos for these tutorials can be found [here](https://www.youtube.com/watch?v=kAI67Sz92-s&list=PL-bdv-10yhrPGf9mNzQJvTc3yhhwpfOAz&index=1).\n",
    "\n",
    "Alot of the work in these NBs is based on the popular [statsmodels](https://www.statsmodels.org/stable/index.html) library, in addition to other popular libraries like Prophet."
   ]
  },
  {
   "cell_type": "code",
   "execution_count": 1,
   "id": "d19f9e53-0846-46ff-97bc-a003ebe1332d",
   "metadata": {},
   "outputs": [],
   "source": [
    "import pandas as pd\n",
    "import numpy as np\n",
    "from random import gauss\n",
    "from pandas.plotting import autocorrelation_plot\n",
    "import warnings, itertools, os, subprocess\n",
    "from random import random\n",
    "from pathlib import Path\n",
    "\n",
    "import statsmodels.formula.api as smf\n",
    "import statsmodels.api as sm\n",
    "from statsmodels.graphics.tsaplots import plot_acf, plot_pacf\n",
    "from statsmodels.tsa.ar_model import AR\n",
    "from statsmodels.tsa.seasonal import seasonal_decompose\n",
    "from statsmodels.tsa.stattools import adfuller\n",
    "\n",
    "import matplotlib.pyplot as plt\n",
    "plt.style.use('fivethirtyeight')\n",
    "import seaborn as sns"
   ]
  },
  {
   "cell_type": "markdown",
   "id": "93e0582d-390f-4446-983b-d8a00498aadf",
   "metadata": {},
   "source": [
    "Konrad has a series of datasets, all compiled into a folder. So we can download all of these under a single data folder for easy retrieval."
   ]
  },
  {
   "cell_type": "code",
   "execution_count": 2,
   "id": "2cd305cd-f163-41fe-8469-96accb0e8993",
   "metadata": {},
   "outputs": [],
   "source": [
    "# Setup credentials path and write once \n",
    "# Comment out once json file has been created.\n",
    "#creds = '{\"username\":\"bachaudhry\",\"key\":\"\"}'\n",
    "cred_path = Path('~/.kaggle/kaggle.json').expanduser()\n",
    "if not cred_path.exists():\n",
    "    cred_path.parent.mkdir(exist_ok=True)\n",
    "    cred_path.write_text(creds)\n",
    "    cred_path.chmod(0o600)"
   ]
  },
  {
   "cell_type": "code",
   "execution_count": 7,
   "id": "432b0bc5-033e-4a9e-a9e4-ce8b3ce1056b",
   "metadata": {},
   "outputs": [],
   "source": [
    "# Import datasets and unzip\n",
    "def download_data(dataset, path):\n",
    "    # Create local folder if one doesn't exist\n",
    "    os.makedirs(path, exist_ok=True)\n",
    "    # Call Kaggle API\n",
    "    kaggle_call = f\"kaggle datasets download -d {dataset} -p {path} --unzip\"\n",
    "    subprocess.run(kaggle_call, shell=True, check=True)\n",
    "    print(f\"Dataset '{dataset}' has been downloaded to '{path}'\")"
   ]
  },
  {
   "cell_type": "code",
   "execution_count": 8,
   "id": "4dfc5e88-ac77-4d08-be51-04214c94c9d5",
   "metadata": {},
   "outputs": [
    {
     "name": "stdout",
     "output_type": "stream",
     "text": [
      "Dataset URL: https://www.kaggle.com/datasets/konradb/tsdata-1\n",
      "License(s): unknown\n",
      "Downloading tsdata-1.zip to data\n"
     ]
    },
    {
     "name": "stderr",
     "output_type": "stream",
     "text": [
      "100%|██████████| 6.72M/6.72M [00:03<00:00, 1.89MB/s]\n"
     ]
    },
    {
     "name": "stdout",
     "output_type": "stream",
     "text": [
      "\n",
      "Dataset 'konradb/tsdata-1' has been downloaded to 'data'\n"
     ]
    }
   ],
   "source": [
    "dataset = \"konradb/tsdata-1\"\n",
    "download_path = \"data\"\n",
    "\n",
    "download_data(dataset, download_path)"
   ]
  },
  {
   "cell_type": "code",
   "execution_count": null,
   "id": "2980c361-d42b-4c55-a438-7c35832f3984",
   "metadata": {},
   "outputs": [],
   "source": []
  },
  {
   "cell_type": "code",
   "execution_count": null,
   "id": "9f392b06-0571-40ad-9b7a-1101371d8b58",
   "metadata": {},
   "outputs": [],
   "source": []
  },
  {
   "cell_type": "code",
   "execution_count": null,
   "id": "4c831302-8a3c-4cc8-ab57-5280ce3607c8",
   "metadata": {},
   "outputs": [],
   "source": []
  },
  {
   "cell_type": "code",
   "execution_count": null,
   "id": "3a632b0e-3fc0-4d0c-bca8-e01035c6b06c",
   "metadata": {},
   "outputs": [],
   "source": []
  },
  {
   "cell_type": "code",
   "execution_count": null,
   "id": "4675175f-9b44-4545-b9d0-3328ffb5588b",
   "metadata": {},
   "outputs": [],
   "source": []
  },
  {
   "cell_type": "code",
   "execution_count": null,
   "id": "09388cd4-c09b-46e2-be30-931ab406474e",
   "metadata": {},
   "outputs": [],
   "source": []
  },
  {
   "cell_type": "code",
   "execution_count": null,
   "id": "8066c88a-4d92-427d-bae4-67aac3af2988",
   "metadata": {},
   "outputs": [],
   "source": []
  },
  {
   "cell_type": "code",
   "execution_count": null,
   "id": "f26ae9ed-0d3c-47a7-8f34-339927eb726b",
   "metadata": {},
   "outputs": [],
   "source": []
  },
  {
   "cell_type": "code",
   "execution_count": null,
   "id": "838ef079-d182-4e0d-9688-30606600a81e",
   "metadata": {},
   "outputs": [],
   "source": []
  },
  {
   "cell_type": "code",
   "execution_count": null,
   "id": "5a0e4199-2137-4d72-a3e7-93ff5aec5538",
   "metadata": {},
   "outputs": [],
   "source": []
  },
  {
   "cell_type": "code",
   "execution_count": null,
   "id": "89f10df5-b70e-4cb1-8b37-42253dfc3d83",
   "metadata": {},
   "outputs": [],
   "source": []
  },
  {
   "cell_type": "code",
   "execution_count": null,
   "id": "e870aa09-cc42-480d-ab71-38b5631f16be",
   "metadata": {},
   "outputs": [],
   "source": []
  },
  {
   "cell_type": "code",
   "execution_count": null,
   "id": "a656e9b5-e211-48e3-940d-0567d0e5b046",
   "metadata": {},
   "outputs": [],
   "source": []
  },
  {
   "cell_type": "code",
   "execution_count": null,
   "id": "abbe9108-c629-4a5d-bd77-a16ffef1c92a",
   "metadata": {},
   "outputs": [],
   "source": []
  },
  {
   "cell_type": "code",
   "execution_count": null,
   "id": "cedb2504-abfa-45de-8a69-77e4283f5cd2",
   "metadata": {},
   "outputs": [],
   "source": []
  },
  {
   "cell_type": "code",
   "execution_count": null,
   "id": "e7cb7e48-3b5a-487c-b056-c33bb08dff5e",
   "metadata": {},
   "outputs": [],
   "source": []
  },
  {
   "cell_type": "code",
   "execution_count": null,
   "id": "37c332ba-c95e-40eb-96b8-6ff4450a334e",
   "metadata": {},
   "outputs": [],
   "source": []
  }
 ],
 "metadata": {
  "kernelspec": {
   "display_name": "Python 3 (ipykernel)",
   "language": "python",
   "name": "python3"
  },
  "language_info": {
   "codemirror_mode": {
    "name": "ipython",
    "version": 3
   },
   "file_extension": ".py",
   "mimetype": "text/x-python",
   "name": "python",
   "nbconvert_exporter": "python",
   "pygments_lexer": "ipython3",
   "version": "3.10.14"
  },
  "widgets": {
   "application/vnd.jupyter.widget-state+json": {
    "state": {},
    "version_major": 2,
    "version_minor": 0
   }
  }
 },
 "nbformat": 4,
 "nbformat_minor": 5
}
